{
 "cells": [
  {
   "cell_type": "markdown",
   "metadata": {},
   "source": [
    "# Revisions writeup\n",
    "\n",
    "This writeup adds responses to every comment I received in Assignment 3."
   ]
  },
  {
   "cell_type": "markdown",
   "metadata": {},
   "source": [
    "* Temporal validation function does not leave a gap (60 days) in between time periods to account for an outcome to happen\n",
    "\n",
    "*Now the split function does leave a gap between the training and testing sets*"
   ]
  },
  {
   "cell_type": "markdown",
   "metadata": {},
   "source": [
    "* Your code could use a lot more comments. It is great that you have comments at the beginning of each function which describe the inputs/outputs/what the function does in general, but you should also have comments within the body of the function itself to make the code more readable. You do not seem to have any comments within the actual bodies of a lot of your functions.\n",
    "\n",
    "*I added function headers in every function I generated, and the long functions also have some internal comments to clarify every step*"
   ]
  },
  {
   "cell_type": "markdown",
   "metadata": {},
   "source": [
    "* Fills with median from the whole data set before splitting by time — do not do this, as the median may be different for test and training data. You should also only convert to dummies/discretize after the split as well\n",
    "\n",
    "*Now every training/testing split is conducted before imputing/converting to dummies/discretizing*"
   ]
  },
  {
   "cell_type": "markdown",
   "metadata": {},
   "source": [
    "* Incorrect use of thresholds — when the assignment asks to use a 0.1 threshold, this does not mean to classify samples with scores >= 0.9 as 1, but to classify the highest 10% scoring samples as 1s. "
   ]
  },
  {
   "cell_type": "markdown",
   "metadata": {},
   "source": [
    "* Please do not hardcode threshold values into your functions. Pass these in as a list of threshold values\n",
    "\n",
    "*Now the threshold values can be passed as a list, and the thresholds list is a parameter of the evaluation_table function*"
   ]
  },
  {
   "cell_type": "markdown",
   "metadata": {},
   "source": [
    "* You switched the target variable — it should be 1 if the project is not funded in 60 days.\n",
    "\n",
    "*Now the target variable has a value of 1 if the project gets funding in more than 60 days*"
   ]
  },
  {
   "cell_type": "markdown",
   "metadata": {},
   "source": [
    "* You are missing the 2 page write up asked for in the assignment"
   ]
  },
  {
   "cell_type": "markdown",
   "metadata": {},
   "source": [
    "* Several of the files in your repository could be condensed into a single pipeline file for easier usage\n",
    "\n",
    "*I've added all my functions into a single script (pipeline.py) for easier usage*"
   ]
  },
  {
   "cell_type": "markdown",
   "metadata": {},
   "source": [
    "* Please include evaluation metrics in your analysis (either in the jupyter notebook or in another folder in your repository)"
   ]
  },
  {
   "cell_type": "markdown",
   "metadata": {},
   "source": [
    "* Please do not make a different function for each classifier, this is not very efficient — instead, you can store all the classifiers in a dictionary and loop through them in a single function to train them. "
   ]
  },
  {
   "cell_type": "markdown",
   "metadata": {},
   "source": [
    "* Your default random forest n = 10, which is very low\n",
    "\n",
    "*Now the default value is n = 1000*"
   ]
  },
  {
   "cell_type": "markdown",
   "metadata": {},
   "source": [
    "* You should store parameters in some type of data structure, so you can iterate over them and fit every model with different parameters"
   ]
  }
 ],
 "metadata": {
  "kernelspec": {
   "display_name": "Python 3",
   "language": "python",
   "name": "python3"
  },
  "language_info": {
   "codemirror_mode": {
    "name": "ipython",
    "version": 3
   },
   "file_extension": ".py",
   "mimetype": "text/x-python",
   "name": "python",
   "nbconvert_exporter": "python",
   "pygments_lexer": "ipython3",
   "version": "3.6.7"
  }
 },
 "nbformat": 4,
 "nbformat_minor": 2
}
