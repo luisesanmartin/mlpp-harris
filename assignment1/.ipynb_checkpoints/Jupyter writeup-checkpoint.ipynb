{
 "cells": [
  {
   "cell_type": "markdown",
   "metadata": {},
   "source": [
    "# Assignment 1\n",
    "Author: Luis Eduardo \"Luise\" San Martin"
   ]
  },
  {
   "cell_type": "code",
   "execution_count": null,
   "metadata": {},
   "outputs": [],
   "source": [
    "import assignment1\n",
    "import pandas as pd"
   ]
  },
  {
   "cell_type": "markdown",
   "metadata": {},
   "source": [
    "## Problem 1: Data Acquisition and Analysis\n",
    "\n",
    "1. Download reported crime data from Chicago open data portal for 2017 and 2018.\n",
    "\n",
    "**Answer:**\n",
    "\n",
    "We've set a function in the assignment1.py file to help with this:"
   ]
  },
  {
   "cell_type": "code",
   "execution_count": null,
   "metadata": {},
   "outputs": [],
   "source": [
    "crimes = assignment1.data_on_crimes()\n",
    "crimes_df = pd.DataFrame.from_dict(crimes)\n",
    "crimes_df"
   ]
  },
  {
   "cell_type": "code",
   "execution_count": null,
   "metadata": {},
   "outputs": [],
   "source": [
    "2*3"
   ]
  },
  {
   "cell_type": "markdown",
   "metadata": {},
   "source": [
    "Now `crimes_df` is the dataframe with the crimes data.\n",
    "\n",
    "2. Generate summary statistics for the crime reports data including but not limited to number of crimes of each type, how they change over time, and how they are\n",
    "different by neighborhood. Please use a combination of tables and graphs to\n",
    "present these summary stats.\n",
    "\n",
    "**Answer:**"
   ]
  },
  {
   "cell_type": "code",
   "execution_count": null,
   "metadata": {},
   "outputs": [],
   "source": []
  }
 ],
 "metadata": {
  "kernelspec": {
   "display_name": "Python 3",
   "language": "python",
   "name": "python3"
  }
 },
 "nbformat": 4,
 "nbformat_minor": 2
}
